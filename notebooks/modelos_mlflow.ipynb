{
 "cells": [
  {
   "cell_type": "markdown",
   "id": "8576a099-f02a-4abd-95ad-064b97bc7fc7",
   "metadata": {},
   "source": [
    "# Modelos (Andres)"
   ]
  },
  {
   "cell_type": "code",
   "execution_count": null,
   "id": "0f225e38-df31-4daf-852d-b3f993427862",
   "metadata": {},
   "outputs": [],
   "source": []
  }
 ],
 "metadata": {
  "kernelspec": {
   "display_name": "Python 3 (ipykernel)",
   "language": "python",
   "name": "python3"
  },
  "language_info": {
   "codemirror_mode": {
    "name": "ipython",
    "version": 3
   },
   "file_extension": ".py",
   "mimetype": "text/x-python",
   "name": "python",
   "nbconvert_exporter": "python",
   "pygments_lexer": "ipython3",
   "version": "3.13.0"
  }
 },
 "nbformat": 4,
 "nbformat_minor": 5
}
