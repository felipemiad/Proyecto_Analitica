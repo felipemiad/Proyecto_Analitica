{
 "cells": [
  {
   "cell_type": "markdown",
   "id": "abf76cea-26f9-4d9f-aa80-cb27c9d92aa8",
   "metadata": {},
   "source": [
    "# Proyecto de Análisis de Datos\n",
    "Este notebook está dividido en secciones específicas para que cada colaborador realice su tarea asignada.\n"
   ]
  },
  {
   "cell_type": "markdown",
   "id": "cc7f2f9b-29a4-4fc5-b5db-cfc9527e3a36",
   "metadata": {},
   "source": [
    "# Importar librerias necesarias (Laura)"
   ]
  },
  {
   "cell_type": "code",
   "execution_count": null,
   "id": "36cc471c-6cf4-492d-ab08-3d6f2134d34f",
   "metadata": {},
   "outputs": [],
   "source": [
    "#import pandas as pd"
   ]
  },
  {
   "cell_type": "markdown",
   "id": "22fb47a2-d12b-44d6-89be-23cc40593237",
   "metadata": {},
   "source": [
    "# Crear el DF (Laura)"
   ]
  },
  {
   "cell_type": "code",
   "execution_count": null,
   "id": "01e8364d-1d81-4881-98d5-82bda0e57cf0",
   "metadata": {},
   "outputs": [],
   "source": [
    "#df_2022 = pd.read_csv(\"data/df_2022.csv\")\n",
    "#df_2022"
   ]
  },
  {
   "cell_type": "markdown",
   "id": "1fcd3cb6-587d-4dd3-8bf2-0ac8686deccc",
   "metadata": {},
   "source": [
    "# Nuevo df con Lista de variables (Jorge)"
   ]
  },
  {
   "cell_type": "code",
   "execution_count": null,
   "id": "e3fe0c9f-5aee-46fc-bba1-c0b6d7e648b0",
   "metadata": {},
   "outputs": [],
   "source": [
    "# Lista con variables de interés (se escogen 24 inicialmente como las que podrían ser interesantes). Esto se hace no solo por el hecho de creer que podrían ser inyteresantes, sino que hay algunas variables con información repetitiva y no relevante, como por ejemplo, municipio y código de municipio (solo sería suficiente con tener el municipio).\n",
    "#variables_iniciales = [\"ESTU_GENERO\",\"ESTU_DEPTO_RESIDE\",\"FAMI_EDUCACIONPADRE\",\"FAMI_EDUCACIONMADRE\",\"FAMI_ESTRATOVIVIENDA\",\"FAMI_PERSONASHOGAR\",\"FAMI_TIENEINTERNET\",\"FAMI_TIENECONSOLAVIDEOJUEGOS\",\"FAMI_NUMLIBROS\",\"ESTU_HORASSEMANATRABAJA\",\"FAMI_COMELECHEDERIVADOS\",\"FAMI_COMECARNEPESCADOHUEVO\",\"COLE_JORNADA\",\"COLE_GENERO\",\"COLE_NATURALEZA\",\"COLE_BILINGUE\",\"COLE_CARACTER\",\"COLE_AREA_UBICACION\",\"PUNT_MATEMATICAS\",\"PUNT_INGLES\",\"PUNT_C_NATURALES\",\"PUNT_LECTURA_CRITICA\",\"PUNT_SOCIALES_CIUDADANAS\",\"PUNT_GLOBAL\"]\n",
    "#Nuevos DataFrame con las 24 variables seleccionadas\n",
    "#new_2022 = df_2022[variables_iniciales]\n",
    "#new_2022\n"
   ]
  },
  {
   "cell_type": "markdown",
   "id": "0296a3f8-3769-4f54-8d1c-58b720d71aa1",
   "metadata": {},
   "source": [
    "# Preprocesamiento y descriptivo (Jorge)"
   ]
  },
  {
   "cell_type": "code",
   "execution_count": null,
   "id": "4a215d5a-c6e6-4039-9666-b98dd0711283",
   "metadata": {},
   "outputs": [],
   "source": [
    "#Calcular datos faltantes\n",
    "#def contar_faltantes(dataframe, lista):\n",
    "#    dicc_cont_faltantes = {}\n",
    "#    for i in lista:\n",
    "#        datos_faltantes = dataframe[i].isna().sum()\n",
    "#        dicc_cont_faltantes[i] = datos_faltantes\n",
    "#    return dicc_cont_faltantes\n",
    "#print(\"A continuación está el diccionario con los faltantes de la base 2022\")\n",
    "#print(contar_faltantes(new_2022, variables_iniciales))\n",
    "\n",
    "#df_total=new_2022\n",
    "#Eliminar las columnas que tienen más del 10% de datos faltantes, ya que eliminar las filas correspondientes sería perder tamaño en los datos, e imputar datos no es considerado para las variables dadas una buena opción ya que puede distorsionar el análisis descriptivo de los datos debido a la gran cantidad de datos faltantes.\n",
    "#Por otro lado, para las columnas con menos de 10% de datos faltantes, se decide imputar los datos con la moda para variables categóricas en las que aplique, y con la media para variables numéricas en las que aplique.\n",
    "#diccionario = contar_faltantes(df_total, variables_iniciales)\n",
    "#columnas_a_eliminar = [llave for llave, valor in diccionario.items() if valor > 0.10*len(df_total)]\n",
    "#df_definitivo = df_total.drop(columns=columnas_a_eliminar)\n",
    "#imputar_moda = ['ESTU_GENERO','ESTU_DEPTO_RESIDE','FAMI_EDUCACIONPADRE','FAMI_EDUCACIONMADRE','FAMI_ESTRATOVIVIENDA','FAMI_TIENEINTERNET','FAMI_TIENECONSOLAVIDEOJUEGOS','ESTU_HORASSEMANATRABAJA','FAMI_NUMLIBROS','FAMI_PERSONASHOGAR','COLE_JORNADA','COLE_GENERO','COLE_NATURALEZA','COLE_CARACTER','COLE_AREA_UBICACION','FAMI_COMELECHEDERIVADOS','FAMI_COMECARNEPESCADOHUEVO']\n",
    "#imputar_media = ['PUNT_MATEMATICAS','PUNT_INGLES','PUNT_C_NATURALES','PUNT_LECTURA_CRITICA','PUNT_SOCIALES_CIUDADANAS','PUNT_GLOBAL']\n",
    "#for columna in imputar_moda:\n",
    "#    moda = df_definitivo[columna].mode()[0]\n",
    "#    df_definitivo[columna] = df_definitivo[columna].fillna(moda)\n",
    "#for columna in imputar_media:\n",
    "#    media = df_definitivo[columna].mean()\n",
    "#    df_definitivo[columna] = df_definitivo[columna].fillna(media)\n",
    "#df_definitivo\n",
    "\n",
    "\n",
    "#nombres_columnas = df_definitivo.columns.tolist()\n",
    "#diccionario2 = contar_faltantes(df_definitivo, nombres_columnas)\n",
    "#print(diccionario2) #Verifiqué que ya no hay datos nulos en el dataframe final.\n",
    "#print(len(df_definitivo)) #El dataframe final queda con 53279 observaciones y 23 columnas.\n",
    "#tipos_datos = df_definitivo.dtypes #Validar el tipo de datos.\n",
    "#print(tipos_datos)"
   ]
  }
 ],
 "metadata": {
  "kernelspec": {
   "display_name": "Python 3 (ipykernel)",
   "language": "python",
   "name": "python3"
  },
  "language_info": {
   "codemirror_mode": {
    "name": "ipython",
    "version": 3
   },
   "file_extension": ".py",
   "mimetype": "text/x-python",
   "name": "python",
   "nbconvert_exporter": "python",
   "pygments_lexer": "ipython3",
   "version": "3.13.0"
  }
 },
 "nbformat": 4,
 "nbformat_minor": 5
}
